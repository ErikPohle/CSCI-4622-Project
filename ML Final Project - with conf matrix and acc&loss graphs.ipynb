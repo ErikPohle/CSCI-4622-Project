{
 "cells": [
  {
   "cell_type": "markdown",
   "metadata": {},
   "source": [
    "**ML-FINAL PROJECT: SPAM ARTICLE DETECTION**\n",
    "\n",
    "$\\textbf{AUTHORS}$: Everett Kirkpatrick, Yair Ben-Naim, Muntaha Pasha, Erik Pohle, Nick Julander"
   ]
  },
  {
   "cell_type": "markdown",
   "metadata": {},
   "source": [
    "**IMPORTS USED:**\n",
    "\n",
    "There are all the imports that we included in our file."
   ]
  },
  {
   "cell_type": "code",
   "execution_count": 60,
   "metadata": {},
   "outputs": [],
   "source": [
    "import pandas as pd\n",
    "import numpy as np\n",
    "import matplotlib.pyplot as plt\n",
    "from sklearn.model_selection import train_test_split\n",
    "import tensorflow as tf\n",
    "from tensorflow.keras.preprocessing.text import Tokenizer\n",
    "from tensorflow.keras.preprocessing.sequence import pad_sequences\n",
    "from tensorflow.keras.models import Sequential\n",
    "from tensorflow.keras.layers import Dense, Dropout, Embedding, GRU, LSTM, RNN, SpatialDropout1D, Bidirectional\n",
    "import sklearn\n",
    "\n",
    "from nltk.corpus import stopwords "
   ]
  },
  {
   "cell_type": "markdown",
   "metadata": {},
   "source": [
    "**READ IN THE TEST AND TRAINING DATA:**\n",
    "\n",
    "Here we read in the training and testing set."
   ]
  },
  {
   "cell_type": "code",
   "execution_count": 61,
   "metadata": {},
   "outputs": [],
   "source": [
    "train = pd.read_csv(\"train.csv\")\n",
    "test = pd.read_csv(\"test.csv\")"
   ]
  },
  {
   "cell_type": "markdown",
   "metadata": {},
   "source": [
    "**PLOTTING FAKE/REAL NEWS:**\n",
    "\n",
    "We wanted to see the distribution of the training data, and how many articles are fake versus how many are real."
   ]
  },
  {
   "cell_type": "code",
   "execution_count": 62,
   "metadata": {},
   "outputs": [
    {
     "data": {
      "text/plain": [
       "Text(0, 0.5, 'Proportion of News Articles')"
      ]
     },
     "execution_count": 62,
     "metadata": {},
     "output_type": "execute_result"
    },
    {
     "data": {
      "image/png": "[encoded data removed]",
      "text/plain": [
       "<Figure size 720x360 with 1 Axes>"
      ]
     },
     "metadata": {
      "needs_background": "light"
     },
     "output_type": "display_data"
    },
    {
     "data": {
      "image/png": "[encoded data removed]",
      "text/plain": [
       "<Figure size 720x360 with 1 Axes>"
      ]
     },
     "metadata": {
      "needs_background": "light"
     },
     "output_type": "display_data"
    }
   ],
   "source": [
    "real = []\n",
    "fake = []\n",
    "for i in train['label'].values:\n",
    "    if i == 0:\n",
    "        fake.append(i)\n",
    "    else:\n",
    "        real.append(i)\n",
    "        \n",
    "plt.figure(figsize=(10, 5))\n",
    "plt.bar('Fake News', len(fake), color='red')\n",
    "plt.bar('Real News', len(real), color='green')\n",
    "plt.title('Distribution of Fake News and Real News', size=15)\n",
    "plt.xlabel('News Type', size=15)\n",
    "plt.ylabel('# of News Articles', size=15)\n",
    "\n",
    "\n",
    "total_len = len(fake) + len(real)\n",
    "plt.figure(figsize=(10, 5))\n",
    "plt.bar('Fake News', len(fake) / total_len, color='red')\n",
    "plt.bar('Real News', len(real) / total_len, color='green')\n",
    "plt.title('Distribution of Fake News and Real News', size=15)\n",
    "plt.xlabel('News Type', size=15)\n",
    "plt.ylabel('Proportion of News Articles', size=15)"
   ]
  },
  {
   "cell_type": "markdown",
   "metadata": {},
   "source": [
    "**SETTING UP TOKENIZER AND FILTER:**\n",
    "    \n",
    "Here we are creating our filters and setting up the tokenizer."
   ]
  },
  {
   "cell_type": "code",
   "execution_count": 63,
   "metadata": {},
   "outputs": [
    {
     "data": {
      "text/plain": [
       "'\\ntokenizer = Tokenizer(num_words = None, \\n                   filters=\\'!\"\"-#$%&()*+,-./:;<=>?@[\\\\]^_`{|}~\\t\\n\\', \\n                    lower = True, \\n                    split = \\' \\',\\n                    oov_token=\\'<00V>\\')\\n                    '"
      ]
     },
     "execution_count": 63,
     "metadata": {},
     "output_type": "execute_result"
    }
   ],
   "source": [
    "# drop the id column since the first column is the index anyways\n",
    "train = train.set_index('id', drop = True)\n",
    "\n",
    "# set the max_features to 1500 because of computation limitations\n",
    "max_features = 1500\n",
    "\n",
    "# some of the title and author values are not none so classify them as missing instead of null\n",
    "train[['title', 'author']] = train[['title', 'author']].fillna(value = 'Missing')\n",
    "\n",
    "# drop any other value that is null, this will only be rows where the text itself is null, so these values are not needed\n",
    "train = train.dropna()\n",
    "train.isnull().sum()\n",
    "\n",
    "# count the length of each article by character and append that as a new column\n",
    "length = []\n",
    "[length.append(len(str(text))) for text in train['text']]\n",
    "train['length'] = length\n",
    "\n",
    "# the articles where the length is less than 50 is mostly nonsense\n",
    "# drop those articles\n",
    "train = train.drop(train['text'][train['length'] < 50].index, axis = 0)\n",
    "y = train['label'].values\n",
    "\n",
    "\n",
    "# tokenizer for the text\n",
    "# num_words is the maximum number of words in the tokenizer, if an article has more than this number of unique words than it drops the ones that haven't yet been seen\n",
    "\n",
    "# the oov_token tells the tokenizer what to do when it encounters a word that it hasn't seen before\n",
    "# this is useful in testing after the model has been trained, in a test article it will change the\n",
    "# word it hasn't seen befor to <00V> and then encode it, this will keep the length of the article \n",
    "# so it doesn't lose too much meaning\n",
    "\n",
    "# lower converts all the words to lowercase, splits the words by space\n",
    "\n",
    "# fit_on_texts looks at all the words in the dataset and uses that as the vocab to tokenize\n",
    "\n",
    "#texts_to_sequences transforms the list of text to an encoding of each word that appears \n",
    "#(Example) text = [1, 3, 4, 2], internal structure of tekenizer contains a dictionary\n",
    "#dictionary:\n",
    "# word_index = {\n",
    "# 'hello' : 1,\n",
    "# 'you' : 2,\n",
    "# 'how' : 3,\n",
    "# 'are' : 4\n",
    "#}\n",
    "\n",
    "tokenizer = Tokenizer(num_words = max_features, \n",
    "                    filters='!\"\"-#$%&()*+,-./:;<=>?@[\\\\]^_`{|}~\\t\\n', \n",
    "                    lower = True, \n",
    "                    split = ' ',\n",
    "                    oov_token='<00V>')\n",
    "\n",
    "# if using a computer with more resources, then use this tokenizer\n",
    "'''\n",
    "tokenizer = Tokenizer(num_words = None, \n",
    "                   filters='!\"\"-#$%&()*+,-./:;<=>?@[\\\\]^_`{|}~\\t\\n', \n",
    "                    lower = True, \n",
    "                    split = ' ',\n",
    "                    oov_token='<00V>')\n",
    "                    '''"
   ]
  },
  {
   "cell_type": "markdown",
   "metadata": {},
   "source": [
    "**DATA OBSERVATIONS:**\n",
    "\n",
    "Checking different features between real and fake, such as punctuation."
   ]
  },
  {
   "cell_type": "code",
   "execution_count": 64,
   "metadata": {},
   "outputs": [
    {
     "name": "stdout",
     "output_type": "stream",
     "text": [
      "Mean ! in True Article:  0.1581200739515423\n",
      "Mean ! in Fake Article:  0.437676364697869\n",
      "Mean . in True Article:  2634.9692030748274\n",
      "Mean . in Fake Article:  1957.320375595991\n"
     ]
    }
   ],
   "source": [
    "exc_true = sum(train['text'][train['label']==0].str.count('!'))/len(train['label']==0)\n",
    "exc_fake = sum(train['text'][train['label']==1].str.count('!'))/len(train['label']==1)\n",
    "print(\"Mean ! in True Article: \", exc_true)\n",
    "print(\"Mean ! in Fake Article: \", exc_fake)\n",
    "\n",
    "ques_true = sum(train['text'][train['label']==0].str.count('.'))/len(train['label']==0)\n",
    "ques_fake = sum(train['text'][train['label']==1].str.count('.'))/len(train['label']==1)\n",
    "print(\"Mean . in True Article: \", ques_true)\n",
    "print(\"Mean . in Fake Article: \", ques_fake)"
   ]
  },
  {
   "cell_type": "code",
   "execution_count": 65,
   "metadata": {},
   "outputs": [],
   "source": [
    "tokenizer.fit_on_texts(texts = train['text'])\n",
    "X = tokenizer.texts_to_sequences(texts = train['text'])"
   ]
  },
  {
   "cell_type": "code",
   "execution_count": 66,
   "metadata": {},
   "outputs": [
    {
     "data": {
      "text/plain": [
       "\"\\nX = pad_sequences(sequences = X, maxlen = None, padding = 'pre')\\n\""
      ]
     },
     "execution_count": 66,
     "metadata": {},
     "output_type": "execute_result"
    }
   ],
   "source": [
    "# padding the sequence, fills all articles with zeros at the beginning of the article to fit the length\n",
    "# of the largest sequence of words in the dataset\n",
    "X = pad_sequences(sequences = X, maxlen = max_features, padding = 'pre')\n",
    "\n",
    "# if using a computer with more resources, then use this padding\n",
    "'''\n",
    "X = pad_sequences(sequences = X, maxlen = None, padding = 'pre')\n",
    "'''"
   ]
  },
  {
   "cell_type": "code",
   "execution_count": 67,
   "metadata": {},
   "outputs": [],
   "source": [
    "X_train, X_test, y_train, y_test = train_test_split(X, y, test_size = 0.2)"
   ]
  },
  {
   "cell_type": "markdown",
   "metadata": {},
   "source": [
    "**TRAINING THE MODEL ON THE DATASET:**\n",
    "\n",
    "Here we finally add different layers and train the model using LSTM NN Model."
   ]
  },
  {
   "cell_type": "markdown",
   "metadata": {},
   "source": [
    "**SOURCES USED:**\n",
    "\n",
    "1 - https://machinelearningmastery.com/adam-optimization-algorithm-for-deep-learning/\n",
    "\n",
    "2 - https://www.tensorflow.org/api_docs/python/tf/keras/losses/sparse_categorical_crossentropy\n",
    "\n",
    "3 - https://www.dlology.com/blog/how-to-use-keras-sparse_categorical_crossentropy/"
   ]
  },
  {
   "cell_type": "code",
   "execution_count": 68,
   "metadata": {},
   "outputs": [],
   "source": [
    "# ahhhh the good stuff\n",
    "# the input layer is the max num features, which is the number of words in the article with\n",
    "# the most number of words\n",
    "\n",
    "# ideally embedding will group similar articles together\n",
    "\n",
    "# then the first LSTM layer, the recurrent_dropout is the fraction of nodes around specific nodes to input\n",
    "# into this node\n",
    "\n",
    "# followed by a dropout layer, this randomly sets random nodes to a weight of zero, its meant to prevent\n",
    "# overfitting and somewhat more closely mimics how the brain learns \n",
    "# (certain neurons learn specific things over time and other neurons \"dropout\" or rewire if they are not\n",
    "# involved in a certain process)\n",
    "\n",
    "# then a dense layer with no dropout\n",
    "\n",
    "# then another dropout\n",
    "\n",
    "# final dense layer that is the output of the model, 0 for fake 1 for real\n",
    "lstm_model = Sequential(name = 'LSTM_NN_Model')\n",
    "lstm_model.add(layer = Embedding(input_dim = max_features, output_dim = 120, name = 'Embed_Layer'))\n",
    "lstm_model.add(layer = Bidirectional(LSTM(10, return_sequences=True), input_shape=(5, 10), name = 'Bidirectional_Layer'))\n",
    "lstm_model.add(layer = LSTM(units = 120, dropout = 0.2, recurrent_dropout = 0.2, name = 'LSTM_Layer'))\n",
    "lstm_model.add(layer = Dropout(rate = 0.5, name = 'Dropout_Layer1'))\n",
    "lstm_model.add(layer = Dense(units = 120,  activation = 'relu', name = 'Dense_Layer1'))\n",
    "lstm_model.add(layer = Dropout(rate = 0.5, name = 'Dropout_Layer2'))\n",
    "lstm_model.add(layer = Dense(units = len(set(y)),  activation = 'sigmoid', name = 'Dense_Layer2'))\n",
    "\n",
    "# compiling the model\n",
    "# loss is objective function\n",
    "#\"The Adam optimization algorithm is an extension to stochastic gradient descent that has recently seen broader adoption for deep learning applications \n",
    "#in computer vision and natural language processing.\"\n",
    "#Using a different type of Cross Entropy, we could try sparse_categorical, or binary. Probably best to use binary.\n",
    "lstm_model.compile(optimizer = 'adam', loss = 'sparse_categorical_crossentropy', metrics = ['accuracy'])"
   ]
  },
  {
   "cell_type": "markdown",
   "metadata": {},
   "source": [
    "**LSTM RESULTS:**\n",
    "\n",
    "Here we check and see our accuracy and loss."
   ]
  },
  {
   "cell_type": "code",
   "execution_count": 69,
   "metadata": {
    "scrolled": true
   },
   "outputs": [
    {
     "name": "stdout",
     "output_type": "stream",
     "text": [
      "Epoch 1/4\n",
      "514/514 [==============================] - 878s 2s/step - loss: 0.3423 - accuracy: 0.8523\n",
      "Epoch 2/4\n",
      "514/514 [==============================] - 901s 2s/step - loss: 0.2769 - accuracy: 0.8928\n",
      "Epoch 3/4\n",
      "514/514 [==============================] - 909s 2s/step - loss: 0.2290 - accuracy: 0.9146\n",
      "Epoch 4/4\n",
      "514/514 [==============================] - 832s 2s/step - loss: 0.2073 - accuracy: 0.9227\n"
     ]
    }
   ],
   "source": [
    "# WARNING training the model on my computer took half an hour to run the first time\n",
    "lstm_model_fit = lstm_model.fit(X_train, y_train, epochs = 4)"
   ]
  },
  {
   "cell_type": "markdown",
   "metadata": {},
   "source": [
    "Now we can use our model to predict whether or not an article is fake. So, it is time to evaulate on the test data."
   ]
  },
  {
   "cell_type": "code",
   "execution_count": 70,
   "metadata": {},
   "outputs": [
    {
     "name": "stdout",
     "output_type": "stream",
     "text": [
      "33/33 [==============================] - 17s 523ms/step - loss: 0.2407 - accuracy: 0.9115\n"
     ]
    }
   ],
   "source": [
    "# First, we obtain the predicted labels our fitted model predicts on the test data\n",
    "# Second, we obtain the confusion matrix using sklearn\n",
    "# Finally, we are able to get the results and accuracy of our model\n",
    "y_pred = lstm_model.predict_classes(X_test)\n",
    "confusion_matrix = sklearn.metrics.confusion_matrix(y_test, y_pred)\n",
    "results = lstm_model.evaluate(X_test, y_test, batch_size=128)"
   ]
  },
  {
   "cell_type": "code",
   "execution_count": 73,
   "metadata": {},
   "outputs": [
    {
     "data": {
      "image/png": "[encoded data removed]",
      "text/plain": [
       "<Figure size 432x288 with 1 Axes>"
      ]
     },
     "metadata": {
      "needs_background": "light"
     },
     "output_type": "display_data"
    },
    {
     "data": {
      "image/png": "[encoded data removed]",
      "text/plain": [
       "<Figure size 432x288 with 1 Axes>"
      ]
     },
     "metadata": {
      "needs_background": "light"
     },
     "output_type": "display_data"
    }
   ],
   "source": [
    "#source https://machinelearningmastery.com/display-deep-learning-model-training-history-in-keras/\n",
    "\n",
    "# history for accuracy\n",
    "plt.plot(lstm_model_fit.history['accuracy'])\n",
    "plt.title('model accuracy') \n",
    "plt.ylabel('accuracy')\n",
    "plt.xlabel('epoch')\n",
    "plt.show()\n",
    "\n",
    "# history for loss\n",
    "plt.plot(lstm_model_fit.history['loss'], color = 'orange')\n",
    "plt.title('model loss') \n",
    "plt.ylabel('loss')\n",
    "plt.xlabel('epoch')\n",
    "plt.show()\n"
   ]
  },
  {
   "cell_type": "code",
   "execution_count": 74,
   "metadata": {},
   "outputs": [
    {
     "data": {
      "text/plain": [
       "Text(0.5, 1.0, 'Distribution of Confusion Matrix')"
      ]
     },
     "execution_count": 74,
     "metadata": {},
     "output_type": "execute_result"
    },
    {
     "data": {
      "image/png": "[encoded data removed]",
      "text/plain": [
       "<Figure size 720x360 with 1 Axes>"
      ]
     },
     "metadata": {
      "needs_background": "light"
     },
     "output_type": "display_data"
    }
   ],
   "source": [
    "plt.figure(figsize=(10, 5))\n",
    "plt.bar('True Positives', confusion_matrix[0][0], color='blue')\n",
    "plt.bar('False Positives', confusion_matrix[0][1], color='red')\n",
    "plt.bar('True Negatives', confusion_matrix[1][1], color='blue')\n",
    "plt.bar('False Negatives', confusion_matrix[1][0], color='red')\n",
    "plt.title('Distribution of Confusion Matrix', size=15)"
   ]
  },
  {
   "cell_type": "markdown",
   "metadata": {},
   "source": [
    "**SUMMARY:**\n",
    "\n",
    "The first thing we did was analyze our data and see how much of it was training and how much of it was testing. Because we got our dataset from Kaggle, it was already nicely seperated into training and testing data. After reading those in, we tried to look into the kind of data we had, how much of it was real, how much of it was fake, and what the real and fake articles looked like; respectively. We also looked for different patterns such as punctuation marks between real articles and fake articles (surprisingly or not surprisingly, fake articles have a LOT more exclamation marks!). \n",
    "\n",
    "We then started to create our filter and tokenizer components to try and get the training set more manageable before we ran our data model on it. After creating the filters, we used an LSTM (Long-Short Term Model) to run against the data and added various different layers for it to try and test the accuracy. We played around with different features like adding more/less dropout layers, trying different cross entropy, and running on different numbers of epochs."
   ]
  },
  {
   "cell_type": "code",
   "execution_count": null,
   "metadata": {},
   "outputs": [],
   "source": []
  }
 ],
 "metadata": {
  "kernelspec": {
   "display_name": "Python 3",
   "language": "python",
   "name": "python3"
  },
  "language_info": {
   "codemirror_mode": {
    "name": "ipython",
    "version": 3
   },
   "file_extension": ".py",
   "mimetype": "text/x-python",
   "name": "python",
   "nbconvert_exporter": "python",
   "pygments_lexer": "ipython3",
   "version": "3.8.5"
  }
 },
 "nbformat": 4,
 "nbformat_minor": 4
}
